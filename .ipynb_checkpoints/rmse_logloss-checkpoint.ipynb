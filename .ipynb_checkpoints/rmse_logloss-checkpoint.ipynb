{
 "cells": [
  {
   "cell_type": "markdown",
   "id": "fc939580",
   "metadata": {},
   "source": [
    "# Error Calculating from Scratch "
   ]
  },
  {
   "cell_type": "markdown",
   "id": "d08d7979",
   "metadata": {},
   "source": [
    "## From Regression"
   ]
  },
  {
   "cell_type": "code",
   "execution_count": null,
   "id": "b5be8b80",
   "metadata": {},
   "outputs": [],
   "source": [
    "from sklearn import metrics\n",
    "import numpy as np\n",
    "\n",
    "predicted = [1.1, 2.2, 3.3, 4.4, 5.5]\n",
    "expected = [1, 2, 3, 4, 5]\n",
    "\n",
    "score_mse = metrics.mean_squared_error(predicted, expected)\n",
    "score_rmse = np.sqrt(score_mse)\n",
    "\n",
    "print(\"Score [MSE] : {}\".format(score_mse))\n",
    "print(\"Score [RMSE] : {}\".format(score_rmse))"
   ]
  },
  {
   "cell_type": "code",
   "execution_count": null,
   "id": "fdca735e",
   "metadata": {},
   "outputs": [],
   "source": [
    "# NOT USING FORMULA\n",
    "score_mse = ((predicted[0]-expected[0])**2+(predicted[1]-expected[1])**2+\n",
    "            (predicted[2]-expected[2])**2+(predicted[3]-expected[3])**2+\n",
    "            (predicted[4]-expected[4])**2)/len(predicted)\n",
    "score_rmse = np.sqrt(score_mse)\n",
    "\n",
    "print(\"Score [MSE] : {}\".format(score_mse))\n",
    "print(\"Score [RMSE] : {}\".format(score_rmse))"
   ]
  },
  {
   "cell_type": "markdown",
   "id": "b1dc64b7",
   "metadata": {},
   "source": [
    "### From Classification\n",
    "\n",
    "We will now look at how to calculate a logloss by hand. For this we look at a binary prediction. The expected is always 0 or 1. The predicted is some number between 0-1 that indicates the probability true (1). Therefore, a prediction of 1.0 is completely correct if the expected is 1 and completely wrong if the expected is 0."
   ]
  },
  {
   "cell_type": "code",
   "execution_count": 10,
   "id": "12ab365a",
   "metadata": {},
   "outputs": [
    {
     "name": "stdout",
     "output_type": "stream",
     "text": [
      "0.06678801305495843\n"
     ]
    }
   ],
   "source": [
    "from sklearn import metrics\n",
    "\n",
    "expected = [1, 1, 0, 0, 0]\n",
    "predicted = [0.9, 0.99, 0.1, 0.05, 0.06]\n",
    "\n",
    "print(metrics.log_loss(expected, predicted))"
   ]
  },
  {
   "cell_type": "markdown",
   "id": "3ece72b1",
   "metadata": {},
   "source": [
    "Now calculating logloss manually"
   ]
  },
  {
   "cell_type": "code",
   "execution_count": 11,
   "id": "c27dcc48",
   "metadata": {},
   "outputs": [
    {
     "name": "stdout",
     "output_type": "stream",
     "text": [
      "Score LogLoss : 0.06678801305495843\n"
     ]
    }
   ],
   "source": [
    "import numpy as np\n",
    "\n",
    "score_logloss = (np.log(1.0-abs(expected[0]-predicted[0]))+\n",
    "                np.log(1.0-abs(expected[1]-predicted[1]))+\n",
    "                np.log(1.0-abs(expected[2]-predicted[2]))+\n",
    "                np.log(1.0-abs(expected[3]-predicted[3]))+\n",
    "                np.log(1.0-abs(expected[4]-predicted[4])))*\\\n",
    "                (-1/len(predicted))\n",
    "print(\"Score LogLoss : {}\".format(score_logloss))"
   ]
  },
  {
   "cell_type": "code",
   "execution_count": null,
   "id": "d390c05b",
   "metadata": {},
   "outputs": [],
   "source": []
  }
 ],
 "metadata": {
  "kernelspec": {
   "display_name": "Python 3 (ipykernel)",
   "language": "python",
   "name": "python3"
  },
  "language_info": {
   "codemirror_mode": {
    "name": "ipython",
    "version": 3
   },
   "file_extension": ".py",
   "mimetype": "text/x-python",
   "name": "python",
   "nbconvert_exporter": "python",
   "pygments_lexer": "ipython3",
   "version": "3.8.12"
  }
 },
 "nbformat": 4,
 "nbformat_minor": 5
}
