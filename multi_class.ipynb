{
 "cells": [
  {
   "cell_type": "markdown",
   "id": "316eafb8",
   "metadata": {},
   "source": [
    "Wcbreast_wdbc dataset"
   ]
  },
  {
   "cell_type": "code",
   "execution_count": 1,
   "id": "b9967f7f",
   "metadata": {},
   "outputs": [
    {
     "data": {
      "text/html": [
       "<div>\n",
       "<style scoped>\n",
       "    .dataframe tbody tr th:only-of-type {\n",
       "        vertical-align: middle;\n",
       "    }\n",
       "\n",
       "    .dataframe tbody tr th {\n",
       "        vertical-align: top;\n",
       "    }\n",
       "\n",
       "    .dataframe thead th {\n",
       "        text-align: right;\n",
       "    }\n",
       "</style>\n",
       "<table border=\"1\" class=\"dataframe\">\n",
       "  <thead>\n",
       "    <tr style=\"text-align: right;\">\n",
       "      <th></th>\n",
       "      <th>id</th>\n",
       "      <th>diagnosis</th>\n",
       "      <th>...</th>\n",
       "      <th>worst_symmetry</th>\n",
       "      <th>worst_fractal_dimension</th>\n",
       "    </tr>\n",
       "  </thead>\n",
       "  <tbody>\n",
       "    <tr>\n",
       "      <th>0</th>\n",
       "      <td>842302</td>\n",
       "      <td>M</td>\n",
       "      <td>...</td>\n",
       "      <td>0.4601</td>\n",
       "      <td>0.11890</td>\n",
       "    </tr>\n",
       "    <tr>\n",
       "      <th>1</th>\n",
       "      <td>842517</td>\n",
       "      <td>M</td>\n",
       "      <td>...</td>\n",
       "      <td>0.2750</td>\n",
       "      <td>0.08902</td>\n",
       "    </tr>\n",
       "    <tr>\n",
       "      <th>...</th>\n",
       "      <td>...</td>\n",
       "      <td>...</td>\n",
       "      <td>...</td>\n",
       "      <td>...</td>\n",
       "      <td>...</td>\n",
       "    </tr>\n",
       "    <tr>\n",
       "      <th>567</th>\n",
       "      <td>927241</td>\n",
       "      <td>M</td>\n",
       "      <td>...</td>\n",
       "      <td>0.4087</td>\n",
       "      <td>0.12400</td>\n",
       "    </tr>\n",
       "    <tr>\n",
       "      <th>568</th>\n",
       "      <td>92751</td>\n",
       "      <td>B</td>\n",
       "      <td>...</td>\n",
       "      <td>0.2871</td>\n",
       "      <td>0.07039</td>\n",
       "    </tr>\n",
       "  </tbody>\n",
       "</table>\n",
       "<p>569 rows × 32 columns</p>\n",
       "</div>"
      ],
      "text/plain": [
       "         id diagnosis  ...  worst_symmetry  worst_fractal_dimension\n",
       "0    842302         M  ...          0.4601                  0.11890\n",
       "1    842517         M  ...          0.2750                  0.08902\n",
       "..      ...       ...  ...             ...                      ...\n",
       "567  927241         M  ...          0.4087                  0.12400\n",
       "568   92751         B  ...          0.2871                  0.07039\n",
       "\n",
       "[569 rows x 32 columns]"
      ]
     },
     "metadata": {},
     "output_type": "display_data"
    }
   ],
   "source": [
    "import pandas as pd\n",
    "df = pd.read_csv(\n",
    "    \"https://data.heatonresearch.com/data/t81-558/wcbreast_wdbc.csv\",\n",
    "    na_values = ['NA','?'])\n",
    "pd.set_option('display.max_columns',5)\n",
    "pd.set_option('display.max_rows',5)\n",
    "\n",
    "display(df)"
   ]
  },
  {
   "cell_type": "markdown",
   "id": "3811f18a",
   "metadata": {},
   "source": [
    "Binary classification is common in medical testing.  Often you want to diagnose if someone has a disease.  This can lead to two types of errors, know as false positives and false negatives:\n",
    "\n",
    "* **False Positive** - Your test (neural network) indicated that the patient had the disease; however, the patient did not have the disease.\n",
    "* **False Negative** - Your test (neural network) indicated that the patient did not have the disease; however, the patient did have the disease.\n",
    "* **True Positive** - Your test (neural network) correctly identified that the patient had the disease.\n",
    "* **True Negative** - Your test (neural network) correctly identified that the patient did not have the disease.\n",
    "\n",
    "Types of errors can be seen in Figure 4.ETYP. \n",
    "\n",
    "**Figure 4.ETYP: Type of Error**\n",
    "![Type of Error](https://raw.githubusercontent.com/jeffheaton/t81_558_deep_learning/master/images/class_4_errors.png \"Type of Error\")\n",
    "\n",
    "Neural networks classify in terms of probability of it being positive. However, at what probability do you give a positive result?  Is the cutoff 50%? 90%?  Where you set this cutoff is called the threshold.  Anything above the cutoff is positive, anything below is negative.  Setting this cutoff allows the model to be more sensitive or specific:\n",
    "\n",
    "More info on Sensitivity vs Specificity: [Khan Academy](https://www.youtube.com/watch?v=Z5TtopYX1Gc)"
   ]
  },
  {
   "cell_type": "code",
   "execution_count": 2,
   "id": "6a76cada",
   "metadata": {},
   "outputs": [
    {
     "data": {
      "image/png": "[encoded data removed]",
      "text/plain": [
       "<Figure size 432x288 with 1 Axes>"
      ]
     },
     "metadata": {
      "needs_background": "light"
     },
     "output_type": "display_data"
    }
   ],
   "source": [
    "%matplotlib inline\n",
    "import matplotlib.pyplot as plt\n",
    "import numpy as np\n",
    "import scipy.stats as stats\n",
    "import math\n",
    "\n",
    "mu1 = -2\n",
    "mu2 = 2\n",
    "variance = 1\n",
    "sigma = math.sqrt(variance)\n",
    "x1 = np.linspace(mu1 - 5*sigma, mu1 + 4*sigma, 100)\n",
    "x2 = np.linspace(mu2 - 5*sigma, mu2 + 4*sigma, 100)\n",
    "plt.plot(x1, stats.norm.pdf(x1, mu1, sigma)/1, color='green', linestyle='dashed')\n",
    "plt.plot(x2, stats.norm.pdf(x2, mu2, sigma)/1, color='red')\n",
    "plt.axvline(x=-2, color='black')\n",
    "plt.axvline(x=0, color='black')\n",
    "plt.axvline(x=2, color='black')\n",
    "plt.text(-2.7,0.55,\"Sensitive\")\n",
    "plt.text(-0.7,0.55,\"Balanced\")\n",
    "plt.text(1.7,0.55,\"Specific\")\n",
    "plt.ylim([0,0.53])\n",
    "plt.xlim([-5,5])\n",
    "plt.legend(['Negative','Positive'])\n",
    "plt.yticks([])\n",
    "plt.show()"
   ]
  },
  {
   "cell_type": "code",
   "execution_count": 3,
   "id": "3481e7d6",
   "metadata": {
    "slideshow": {
     "slide_type": "fragment"
    }
   },
   "outputs": [
    {
     "data": {
      "text/html": [
       "<div>\n",
       "<style scoped>\n",
       "    .dataframe tbody tr th:only-of-type {\n",
       "        vertical-align: middle;\n",
       "    }\n",
       "\n",
       "    .dataframe tbody tr th {\n",
       "        vertical-align: top;\n",
       "    }\n",
       "\n",
       "    .dataframe thead th {\n",
       "        text-align: right;\n",
       "    }\n",
       "</style>\n",
       "<table border=\"1\" class=\"dataframe\">\n",
       "  <thead>\n",
       "    <tr style=\"text-align: right;\">\n",
       "      <th></th>\n",
       "      <th>id</th>\n",
       "      <th>diagnosis</th>\n",
       "      <th>...</th>\n",
       "      <th>worst_symmetry</th>\n",
       "      <th>worst_fractal_dimension</th>\n",
       "    </tr>\n",
       "  </thead>\n",
       "  <tbody>\n",
       "    <tr>\n",
       "      <th>0</th>\n",
       "      <td>842302</td>\n",
       "      <td>M</td>\n",
       "      <td>...</td>\n",
       "      <td>0.4601</td>\n",
       "      <td>0.11890</td>\n",
       "    </tr>\n",
       "    <tr>\n",
       "      <th>1</th>\n",
       "      <td>842517</td>\n",
       "      <td>M</td>\n",
       "      <td>...</td>\n",
       "      <td>0.2750</td>\n",
       "      <td>0.08902</td>\n",
       "    </tr>\n",
       "    <tr>\n",
       "      <th>...</th>\n",
       "      <td>...</td>\n",
       "      <td>...</td>\n",
       "      <td>...</td>\n",
       "      <td>...</td>\n",
       "      <td>...</td>\n",
       "    </tr>\n",
       "    <tr>\n",
       "      <th>567</th>\n",
       "      <td>927241</td>\n",
       "      <td>M</td>\n",
       "      <td>...</td>\n",
       "      <td>0.4087</td>\n",
       "      <td>0.12400</td>\n",
       "    </tr>\n",
       "    <tr>\n",
       "      <th>568</th>\n",
       "      <td>92751</td>\n",
       "      <td>B</td>\n",
       "      <td>...</td>\n",
       "      <td>0.2871</td>\n",
       "      <td>0.07039</td>\n",
       "    </tr>\n",
       "  </tbody>\n",
       "</table>\n",
       "<p>569 rows × 32 columns</p>\n",
       "</div>"
      ],
      "text/plain": [
       "         id diagnosis  ...  worst_symmetry  worst_fractal_dimension\n",
       "0    842302         M  ...          0.4601                  0.11890\n",
       "1    842517         M  ...          0.2750                  0.08902\n",
       "..      ...       ...  ...             ...                      ...\n",
       "567  927241         M  ...          0.4087                  0.12400\n",
       "568   92751         B  ...          0.2871                  0.07039\n",
       "\n",
       "[569 rows x 32 columns]"
      ]
     },
     "metadata": {},
     "output_type": "display_data"
    }
   ],
   "source": [
    "from scipy.stats import zscore\n",
    "display(df)\n",
    "x_columns = df.columns.drop('diagnosis').drop('id')\n",
    "x_columns\n",
    "for col in x_columns:\n",
    "    df[col] = zscore(df[col])\n",
    "#convert to numpy--Regression\n",
    "x=df[x_columns].values\n",
    "y=df['diagnosis'].map({'M':1,'B':0}) # binary classification\n",
    "#for understanding map visit this link : https://book.pythontips.com/en/latest/map_filter.html"
   ]
  },
  {
   "cell_type": "code",
   "execution_count": 4,
   "id": "515a050f",
   "metadata": {
    "slideshow": {
     "slide_type": "notes"
    }
   },
   "outputs": [],
   "source": [
    "%matplotlib inline\n",
    "import matplotlib.pyplot as plt\n",
    "from sklearn.metrics import roc_curve, auc\n",
    "\n",
    "#we use the confusion matrix\n",
    "def plot_confusion_matrix(cm,name,title='Confusion Matrix',cmap=plt.cm.Blues):\n",
    "   # where cm is the confusion matrix \n",
    "   # name are the name of classes\n",
    "    plt.imshow(cm,interpolation = 'nearest',cmap=cmap)\n",
    "    plt.title(title)\n",
    "    plt.colorbar()\n",
    "    tick_marks = np.arange(len(names))\n",
    "    plt.xticks(tick_marks,names,rotation=45)\n",
    "    plt.yticks(tick_marks,names)\n",
    "    plt.tight_layout()\n",
    "    plt.xlabel(\"Predicted Labels\")\n",
    "    ply.ylabel(\"True Labels\")\n",
    "\n",
    "# Plot an ROC. pred - the predict\n",
    "# ions, y - the expected output.\n",
    "def plot_roc(pred,y):\n",
    "    fpr, tpr, _ = roc_curve(y, pred)\n",
    "    roc_auc = auc(fpr, tpr)\n",
    "\n",
    "    plt.figure()\n",
    "    plt.plot(fpr, tpr, label='ROC curve (area = %0.2f)' % roc_auc)\n",
    "    plt.plot([0, 1], [0, 1], 'k--')\n",
    "    plt.xlim([0.0, 1.0])\n",
    "    plt.ylim([0.0, 1.05])\n",
    "    plt.xlabel('False Positive Rate')\n",
    "    plt.ylabel('True Positive Rate')\n",
    "    plt.title('Receiver Operating Characteristic (ROC)')\n",
    "    plt.legend(loc=\"lower right\")\n",
    "    plt.show()\n",
    "    \n"
   ]
  },
  {
   "cell_type": "markdown",
   "id": "ffcdd183",
   "metadata": {},
   "source": [
    "## ROC chart"
   ]
  },
  {
   "cell_type": "code",
   "execution_count": 5,
   "id": "326c8365",
   "metadata": {},
   "outputs": [
    {
     "name": "stdout",
     "output_type": "stream",
     "text": [
      "Epoch 1/1000\n",
      "14/14 - 0s - loss: 0.6833 - accuracy: 0.8592 - val_loss: 0.6601 - val_accuracy: 0.9580\n",
      "Epoch 2/1000\n",
      "14/14 - 0s - loss: 0.6098 - accuracy: 0.9343 - val_loss: 0.5098 - val_accuracy: 0.9580\n",
      "Epoch 3/1000\n",
      "14/14 - 0s - loss: 0.3906 - accuracy: 0.9413 - val_loss: 0.2137 - val_accuracy: 0.9650\n",
      "Epoch 4/1000\n",
      "14/14 - 0s - loss: 0.1782 - accuracy: 0.9484 - val_loss: 0.0911 - val_accuracy: 0.9650\n",
      "Epoch 5/1000\n",
      "14/14 - 0s - loss: 0.1056 - accuracy: 0.9695 - val_loss: 0.0645 - val_accuracy: 0.9790\n",
      "Epoch 6/1000\n",
      "14/14 - 0s - loss: 0.0821 - accuracy: 0.9742 - val_loss: 0.0542 - val_accuracy: 0.9930\n",
      "Epoch 7/1000\n",
      "14/14 - 0s - loss: 0.0713 - accuracy: 0.9789 - val_loss: 0.0503 - val_accuracy: 0.9930\n",
      "Epoch 8/1000\n",
      "14/14 - 0s - loss: 0.0646 - accuracy: 0.9789 - val_loss: 0.0532 - val_accuracy: 0.9860\n",
      "Epoch 9/1000\n",
      "14/14 - 0s - loss: 0.0580 - accuracy: 0.9836 - val_loss: 0.0490 - val_accuracy: 0.9860\n",
      "Epoch 10/1000\n",
      "14/14 - 0s - loss: 0.0575 - accuracy: 0.9789 - val_loss: 0.0578 - val_accuracy: 0.9860\n",
      "Epoch 11/1000\n",
      "14/14 - 0s - loss: 0.0491 - accuracy: 0.9859 - val_loss: 0.0496 - val_accuracy: 0.9860\n",
      "Epoch 12/1000\n",
      "14/14 - 0s - loss: 0.0441 - accuracy: 0.9883 - val_loss: 0.0536 - val_accuracy: 0.9860\n",
      "Epoch 13/1000\n",
      "14/14 - 0s - loss: 0.0420 - accuracy: 0.9883 - val_loss: 0.0549 - val_accuracy: 0.9860\n",
      "Epoch 14/1000\n",
      "Restoring model weights from the end of the best epoch.\n",
      "14/14 - 0s - loss: 0.0372 - accuracy: 0.9906 - val_loss: 0.0511 - val_accuracy: 0.9860\n",
      "Epoch 00014: early stopping\n"
     ]
    },
    {
     "data": {
      "text/plain": [
       "<tensorflow.python.keras.callbacks.History at 0x22167fead00>"
      ]
     },
     "execution_count": 5,
     "metadata": {},
     "output_type": "execute_result"
    }
   ],
   "source": [
    "# Classification neural network\n",
    "import numpy as np\n",
    "import tensorflow.keras\n",
    "from tensorflow.keras.models import Sequential\n",
    "from tensorflow.keras.layers import Dense, Activation\n",
    "from tensorflow.keras.callbacks import EarlyStopping\n",
    "from sklearn.model_selection import train_test_split\n",
    "\n",
    "# Split into train/test\n",
    "x_train, x_test, y_train, y_test = train_test_split(    \n",
    "    x, y, test_size=0.25, random_state=42)\n",
    "\n",
    "model = Sequential()\n",
    "model.add(Dense(100, input_dim=x.shape[1], activation='relu',\n",
    "                kernel_initializer='random_normal'))\n",
    "model.add(Dense(50,activation='relu',kernel_initializer='random_normal'))\n",
    "model.add(Dense(25,activation='relu',kernel_initializer='random_normal'))\n",
    "model.add(Dense(1,activation='sigmoid',kernel_initializer='random_normal'))\n",
    "model.compile(loss='binary_crossentropy', \n",
    "              optimizer=tensorflow.keras.optimizers.Adam(),\n",
    "              metrics =['accuracy'])\n",
    "monitor = EarlyStopping(monitor='val_loss', min_delta=1e-3, \n",
    "    patience=5, verbose=1, mode='auto', restore_best_weights=True)\n",
    "\n",
    "model.fit(x_train,y_train,validation_data=(x_test,y_test),\n",
    "          callbacks=[monitor],verbose=2,epochs=1000)"
   ]
  },
  {
   "cell_type": "code",
   "execution_count": 6,
   "id": "a3e36a75",
   "metadata": {},
   "outputs": [
    {
     "data": {
      "image/png": "[encoded data removed]",
      "text/plain": [
       "<Figure size 432x288 with 1 Axes>"
      ]
     },
     "metadata": {
      "needs_background": "light"
     },
     "output_type": "display_data"
    }
   ],
   "source": [
    "pred = model.predict(x_test)\n",
    "plot_roc(pred,y_test)"
   ]
  },
  {
   "cell_type": "markdown",
   "id": "65f031d0",
   "metadata": {},
   "source": [
    "# Multiclass Classificatoin Error Metrics"
   ]
  },
  {
   "cell_type": "markdown",
   "id": "f251b4c1",
   "metadata": {},
   "source": [
    "If you want to predict more than one outcome, you will need more than one output neuron. Because a single neuron can predict two outcomes, a neural network with two output neurons is somewhat rare. If there are three or more outcomes, there will be three or more output neurons. The following sections will examine several metrics for evaluating classification error. The following classification neural network will be used to evaluate."
   ]
  },
  {
   "cell_type": "code",
   "execution_count": 7,
   "id": "fedbcd91",
   "metadata": {},
   "outputs": [
    {
     "data": {
      "text/html": [
       "<div>\n",
       "<style scoped>\n",
       "    .dataframe tbody tr th:only-of-type {\n",
       "        vertical-align: middle;\n",
       "    }\n",
       "\n",
       "    .dataframe tbody tr th {\n",
       "        vertical-align: top;\n",
       "    }\n",
       "\n",
       "    .dataframe thead th {\n",
       "        text-align: right;\n",
       "    }\n",
       "</style>\n",
       "<table border=\"1\" class=\"dataframe\">\n",
       "  <thead>\n",
       "    <tr style=\"text-align: right;\">\n",
       "      <th></th>\n",
       "      <th>id</th>\n",
       "      <th>job</th>\n",
       "      <th>...</th>\n",
       "      <th>crime</th>\n",
       "      <th>product</th>\n",
       "    </tr>\n",
       "  </thead>\n",
       "  <tbody>\n",
       "    <tr>\n",
       "      <th>0</th>\n",
       "      <td>1</td>\n",
       "      <td>vv</td>\n",
       "      <td>...</td>\n",
       "      <td>0.071100</td>\n",
       "      <td>b</td>\n",
       "    </tr>\n",
       "    <tr>\n",
       "      <th>1</th>\n",
       "      <td>2</td>\n",
       "      <td>kd</td>\n",
       "      <td>...</td>\n",
       "      <td>0.400809</td>\n",
       "      <td>c</td>\n",
       "    </tr>\n",
       "    <tr>\n",
       "      <th>...</th>\n",
       "      <td>...</td>\n",
       "      <td>...</td>\n",
       "      <td>...</td>\n",
       "      <td>...</td>\n",
       "      <td>...</td>\n",
       "    </tr>\n",
       "    <tr>\n",
       "      <th>1998</th>\n",
       "      <td>1999</td>\n",
       "      <td>qp</td>\n",
       "      <td>...</td>\n",
       "      <td>0.117803</td>\n",
       "      <td>c</td>\n",
       "    </tr>\n",
       "    <tr>\n",
       "      <th>1999</th>\n",
       "      <td>2000</td>\n",
       "      <td>pe</td>\n",
       "      <td>...</td>\n",
       "      <td>0.451973</td>\n",
       "      <td>c</td>\n",
       "    </tr>\n",
       "  </tbody>\n",
       "</table>\n",
       "<p>2000 rows × 14 columns</p>\n",
       "</div>"
      ],
      "text/plain": [
       "        id job  ...     crime  product\n",
       "0        1  vv  ...  0.071100        b\n",
       "1        2  kd  ...  0.400809        c\n",
       "...    ...  ..  ...       ...      ...\n",
       "1998  1999  qp  ...  0.117803        c\n",
       "1999  2000  pe  ...  0.451973        c\n",
       "\n",
       "[2000 rows x 14 columns]"
      ]
     },
     "metadata": {},
     "output_type": "display_data"
    },
    {
     "name": "stdout",
     "output_type": "stream",
     "text": [
      "<class 'pandas.core.frame.DataFrame'>\n",
      "RangeIndex: 2000 entries, 0 to 1999\n",
      "Data columns (total 14 columns):\n",
      " #   Column          Non-Null Count  Dtype  \n",
      "---  ------          --------------  -----  \n",
      " 0   id              2000 non-null   int64  \n",
      " 1   job             2000 non-null   object \n",
      " 2   area            2000 non-null   object \n",
      " 3   income          1941 non-null   float64\n",
      " 4   aspect          2000 non-null   float64\n",
      " 5   subscriptions   2000 non-null   int64  \n",
      " 6   dist_healthy    2000 non-null   float64\n",
      " 7   save_rate       2000 non-null   int64  \n",
      " 8   dist_unhealthy  2000 non-null   float64\n",
      " 9   age             2000 non-null   int64  \n",
      " 10  pop_dense       2000 non-null   float64\n",
      " 11  retail_dense    2000 non-null   float64\n",
      " 12  crime           2000 non-null   float64\n",
      " 13  product         2000 non-null   object \n",
      "dtypes: float64(7), int64(4), object(3)\n",
      "memory usage: 218.9+ KB\n"
     ]
    }
   ],
   "source": [
    "import pandas as pd\n",
    "from scipy.stats import zscore\n",
    "\n",
    "df = pd.read_csv(\n",
    "        \"https://data.heatonresearch.com/data/t81-558/jh-simple-dataset.csv\",\n",
    "        na_values = ['NA','?'])\n",
    "display(df)\n",
    "df.info()"
   ]
  },
  {
   "cell_type": "markdown",
   "id": "3fcc53e2",
   "metadata": {},
   "source": [
    "here lets create the dummy value for jobs and area  since there can be more fields related to them"
   ]
  },
  {
   "cell_type": "code",
   "execution_count": 8,
   "id": "d6dc5a0c",
   "metadata": {},
   "outputs": [],
   "source": [
    "df = pd.concat([df,pd.get_dummies(df['job'], prefix = \"job\")], axis = 1)\n",
    "df.drop('job', axis = 1, inplace = True)\n",
    "\n",
    "df = pd.concat([df,pd.get_dummies(df['area'], prefix = \"area\")], axis = 1)\n",
    "df.drop('area', axis = 1, inplace = True)\n",
    "\n",
    "med = df['income'].median()\n",
    "df['income'] = df['income'].fillna(med)\n",
    "\n",
    "#finding individual zscore for each\n",
    "\n",
    "df['income'] = zscore(df['income'])\n",
    "df['aspect'] = zscore(df['aspect'])\n",
    "df['subscriptions'] = zscore(df['subscriptions'])\n",
    "df['save_rate'] = zscore(df['save_rate'])\n",
    "df['age'] = zscore(df['age'])\n",
    "\n",
    "#convert to numpy classifications\n",
    "\n",
    "x_columns = df.columns.drop('product').drop('id')\n",
    "x = df[x_columns].values\n",
    "dummies = pd.get_dummies(df['product'])\n",
    "products = dummies.columns\n",
    "y = dummies.values"
   ]
  },
  {
   "cell_type": "code",
   "execution_count": 9,
   "id": "b286578a",
   "metadata": {},
   "outputs": [
    {
     "name": "stdout",
     "output_type": "stream",
     "text": [
      "Epoch 1/1000\n",
      "47/47 - 0s - loss: 1.5371 - accuracy: 0.4113 - val_loss: 1.1449 - val_accuracy: 0.4980\n",
      "Epoch 2/1000\n",
      "47/47 - 0s - loss: 1.1473 - accuracy: 0.4773 - val_loss: 1.0951 - val_accuracy: 0.4980\n",
      "Epoch 3/1000\n",
      "47/47 - 0s - loss: 1.1036 - accuracy: 0.4820 - val_loss: 1.0557 - val_accuracy: 0.5040\n",
      "Epoch 4/1000\n",
      "47/47 - 0s - loss: 0.9894 - accuracy: 0.5760 - val_loss: 0.9440 - val_accuracy: 0.5940\n",
      "Epoch 5/1000\n",
      "47/47 - 0s - loss: 0.8538 - accuracy: 0.6553 - val_loss: 0.8532 - val_accuracy: 0.6480\n",
      "Epoch 6/1000\n",
      "47/47 - 0s - loss: 0.8053 - accuracy: 0.6680 - val_loss: 0.8188 - val_accuracy: 0.6620\n",
      "Epoch 7/1000\n",
      "47/47 - 0s - loss: 0.7710 - accuracy: 0.6927 - val_loss: 0.8085 - val_accuracy: 0.6920\n",
      "Epoch 8/1000\n",
      "47/47 - 0s - loss: 0.7584 - accuracy: 0.6953 - val_loss: 0.7914 - val_accuracy: 0.6940\n",
      "Epoch 9/1000\n",
      "47/47 - 0s - loss: 0.7422 - accuracy: 0.6960 - val_loss: 0.7936 - val_accuracy: 0.6680\n",
      "Epoch 10/1000\n",
      "47/47 - 0s - loss: 0.7324 - accuracy: 0.6867 - val_loss: 0.7794 - val_accuracy: 0.6740\n",
      "Epoch 11/1000\n",
      "47/47 - 0s - loss: 0.7141 - accuracy: 0.7040 - val_loss: 0.7638 - val_accuracy: 0.6980\n",
      "Epoch 12/1000\n",
      "47/47 - 0s - loss: 0.7062 - accuracy: 0.7000 - val_loss: 0.7625 - val_accuracy: 0.6940\n",
      "Epoch 13/1000\n",
      "47/47 - 0s - loss: 0.7050 - accuracy: 0.6940 - val_loss: 0.7666 - val_accuracy: 0.6680\n",
      "Epoch 14/1000\n",
      "47/47 - 0s - loss: 0.7099 - accuracy: 0.6887 - val_loss: 0.7505 - val_accuracy: 0.6940\n",
      "Epoch 15/1000\n",
      "47/47 - 0s - loss: 0.6905 - accuracy: 0.6973 - val_loss: 0.7404 - val_accuracy: 0.7020\n",
      "Epoch 16/1000\n",
      "47/47 - 0s - loss: 0.6812 - accuracy: 0.7107 - val_loss: 0.7729 - val_accuracy: 0.6680\n",
      "Epoch 17/1000\n",
      "47/47 - 0s - loss: 0.6769 - accuracy: 0.7100 - val_loss: 0.7375 - val_accuracy: 0.6960\n",
      "Epoch 18/1000\n",
      "47/47 - 0s - loss: 0.6814 - accuracy: 0.7067 - val_loss: 0.7403 - val_accuracy: 0.6980\n",
      "Epoch 19/1000\n",
      "47/47 - 0s - loss: 0.6721 - accuracy: 0.7153 - val_loss: 0.7368 - val_accuracy: 0.6960\n",
      "Epoch 20/1000\n",
      "47/47 - 0s - loss: 0.6646 - accuracy: 0.7240 - val_loss: 0.7382 - val_accuracy: 0.6980\n",
      "Epoch 21/1000\n",
      "47/47 - 0s - loss: 0.6698 - accuracy: 0.7173 - val_loss: 0.7335 - val_accuracy: 0.7020\n",
      "Epoch 22/1000\n",
      "47/47 - 0s - loss: 0.6683 - accuracy: 0.7133 - val_loss: 0.7350 - val_accuracy: 0.7020\n",
      "Epoch 23/1000\n",
      "47/47 - 0s - loss: 0.6626 - accuracy: 0.7153 - val_loss: 0.7310 - val_accuracy: 0.6940\n",
      "Epoch 24/1000\n",
      "47/47 - 0s - loss: 0.6567 - accuracy: 0.7173 - val_loss: 0.7562 - val_accuracy: 0.6720\n",
      "Epoch 25/1000\n",
      "47/47 - 0s - loss: 0.6552 - accuracy: 0.7220 - val_loss: 0.7343 - val_accuracy: 0.7100\n",
      "Epoch 26/1000\n",
      "47/47 - 0s - loss: 0.6557 - accuracy: 0.7247 - val_loss: 0.7584 - val_accuracy: 0.6700\n",
      "Epoch 27/1000\n",
      "47/47 - 0s - loss: 0.6558 - accuracy: 0.7107 - val_loss: 0.7455 - val_accuracy: 0.6920\n",
      "Epoch 28/1000\n",
      "47/47 - 0s - loss: 0.6613 - accuracy: 0.7180 - val_loss: 0.7262 - val_accuracy: 0.7060\n",
      "Epoch 29/1000\n",
      "47/47 - 0s - loss: 0.6465 - accuracy: 0.7240 - val_loss: 0.7366 - val_accuracy: 0.7000\n",
      "Epoch 30/1000\n",
      "47/47 - 0s - loss: 0.6454 - accuracy: 0.7227 - val_loss: 0.7352 - val_accuracy: 0.7000\n",
      "Epoch 31/1000\n",
      "47/47 - 0s - loss: 0.6398 - accuracy: 0.7280 - val_loss: 0.7376 - val_accuracy: 0.6900\n",
      "Epoch 32/1000\n",
      "47/47 - 0s - loss: 0.6397 - accuracy: 0.7340 - val_loss: 0.7273 - val_accuracy: 0.7040\n",
      "Epoch 33/1000\n",
      "Restoring model weights from the end of the best epoch.\n",
      "47/47 - 0s - loss: 0.6338 - accuracy: 0.7273 - val_loss: 0.7320 - val_accuracy: 0.7060\n",
      "Epoch 00033: early stopping\n"
     ]
    },
    {
     "data": {
      "text/plain": [
       "<tensorflow.python.keras.callbacks.History at 0x221696115b0>"
      ]
     },
     "execution_count": 9,
     "metadata": {},
     "output_type": "execute_result"
    }
   ],
   "source": [
    "# Classification neural network\n",
    "import numpy as np\n",
    "import tensorflow.keras\n",
    "from tensorflow.keras.models import Sequential\n",
    "from tensorflow.keras.layers import Dense, Activation\n",
    "from tensorflow.keras.callbacks import EarlyStopping\n",
    "from sklearn.model_selection import train_test_split\n",
    "\n",
    "# Split into train/test\n",
    "x_train, x_test, y_train, y_test = train_test_split(    \n",
    "    x, y, test_size=0.25, random_state=42)\n",
    "\n",
    "model = Sequential()\n",
    "model.add(Dense(100, input_dim=x.shape[1], activation='relu',\n",
    "                kernel_initializer='random_normal'))\n",
    "model.add(Dense(50,activation='relu',kernel_initializer='random_normal'))\n",
    "model.add(Dense(25,activation='relu',kernel_initializer='random_normal'))\n",
    "model.add(Dense(y.shape[1],activation='softmax',\n",
    "                kernel_initializer='random_normal'))\n",
    "model.compile(loss='categorical_crossentropy', \n",
    "              optimizer=tensorflow.keras.optimizers.Adam(),\n",
    "              metrics =['accuracy'])\n",
    "monitor = EarlyStopping(monitor='val_loss', min_delta=1e-3, patience=5, \n",
    "                        verbose=1, mode='auto', restore_best_weights=True)\n",
    "model.fit(x_train,y_train,validation_data=(x_test,y_test),\n",
    "          callbacks=[monitor],verbose=2,epochs=1000)\n"
   ]
  },
  {
   "cell_type": "markdown",
   "id": "5776770e",
   "metadata": {},
   "source": [
    "### Calculate Classification Accuracy\n",
    " \n",
    "Accuracy is the number of rows where the neural network correctly predicted the target class.  Accuracy is only used for classification, not regression.\n",
    "\n",
    "$$ accuracy = \\frac{c}{N} $$\n",
    "\n",
    "Where $c$ is the number correct and $N$ is the size of the evaluated set (training or validation). Higher accuracy numbers are desired.\n",
    "\n",
    "As we just saw, by default, Keras will return the percent probability for each class. We can change these prediction probabilities into the actual iris predicted with **argmax**."
   ]
  },
  {
   "cell_type": "code",
   "execution_count": 10,
   "id": "0f55c9fe",
   "metadata": {},
   "outputs": [],
   "source": [
    "pred = model.predict(x_test)\n",
    "pred = np.argmax(pred, axis=1)"
   ]
  },
  {
   "cell_type": "code",
   "execution_count": 11,
   "id": "e31b909e",
   "metadata": {},
   "outputs": [
    {
     "name": "stdout",
     "output_type": "stream",
     "text": [
      "Accuracy Score : 0.706\n"
     ]
    }
   ],
   "source": [
    "# now calculating the accuracy how it is correctly classified\n",
    "from sklearn import metrics\n",
    "\n",
    "y_compare = np.argmax(y_test, axis=1)\n",
    "score = metrics.accuracy_score(y_compare, pred)\n",
    "print(\"Accuracy Score : {}\".format(score))"
   ]
  },
  {
   "cell_type": "markdown",
   "id": "908a7d89",
   "metadata": {},
   "source": [
    "calculate classification log loss"
   ]
  },
  {
   "cell_type": "code",
   "execution_count": 16,
   "id": "0b4027d9",
   "metadata": {},
   "outputs": [
    {
     "name": "stdout",
     "output_type": "stream",
     "text": [
      "Number of Predictions : \n"
     ]
    },
    {
     "data": {
      "text/plain": [
       "array([[0.    , 0.0921, 0.7483, 0.1594, 0.0002, 0.    , 0.    ],\n",
       "       [0.    , 0.6668, 0.3325, 0.    , 0.0007, 0.    , 0.    ],\n",
       "       [0.0001, 0.6734, 0.3244, 0.0001, 0.0019, 0.0001, 0.    ],\n",
       "       [0.    , 0.2837, 0.7084, 0.0073, 0.0006, 0.    , 0.    ],\n",
       "       [0.    , 0.0611, 0.827 , 0.1119, 0.    , 0.    , 0.    ]],\n",
       "      dtype=float32)"
      ]
     },
     "metadata": {},
     "output_type": "display_data"
    },
    {
     "name": "stdout",
     "output_type": "stream",
     "text": [
      "Percent Probability : \n"
     ]
    },
    {
     "data": {
      "text/plain": [
       "array([ 0.0009,  9.2081, 74.8325, 15.9386,  0.0192,  0.0005,  0.0001],\n",
       "      dtype=float32)"
      ]
     },
     "metadata": {},
     "output_type": "display_data"
    },
    {
     "name": "stdout",
     "output_type": "stream",
     "text": [
      "Log Loss Score : 0.7262278663143515\n"
     ]
    }
   ],
   "source": [
    "from IPython.display import display\n",
    "\n",
    "#dont display numpy in scientific notations\n",
    "\n",
    "np.set_printoptions(precision=4)\n",
    "np.set_printoptions(suppress=True)\n",
    "\n",
    "pred = model.predict(x_test)\n",
    "\n",
    "print(\"Number of Predictions : \")\n",
    "display(pred[0:5])\n",
    "\n",
    "print(\"Percent Probability : \")\n",
    "display(pred[0]*100)\n",
    "\n",
    "score = metrics.log_loss(y_test, pred)\n",
    "print(\"Log Loss Score : {}\".format(score))"
   ]
  },
  {
   "cell_type": "markdown",
   "id": "1647e72a",
   "metadata": {},
   "source": [
    "[Log loss](https://www.kaggle.com/wiki/LogarithmicLoss) is calculated as follows:\n",
    "\n",
    "Log Loss is used in Logistic Regression\n",
    "\n",
    "$$ \\mbox{log loss} = -\\frac{1}{N}\\sum_{i=1}^N {( {y}_i\\log(\\hat{y}_i) + (1 - {y}_i)\\log(1 - \\hat{y}_i))} $$\n",
    "\n",
    "\n",
    "You should use this equation only as an objective function for classifications that have two outcomes. The variable y-hat is the neural network’s prediction, and the variable y is the known correct answer.  In this case, y will always be 0 or 1.  The training data have no probabilities. The neural network classifies it either into one class (1) or the other (0).  \n",
    "\n",
    "The variable N represents the number of elements in the training set the number of questions in the test.  We divide by N because this process is customary for an average.  We also begin the equation with a negative because the log function is always negative over the domain 0 to 1.  This negation allows a positive score for the training to minimize.\n",
    "\n",
    "You will notice two terms are separated by the addition (+).  Each contains a log function.  Because y will be either 0 or 1, then one of these two terms will cancel out to 0.  If y is 0, then the first term will reduce to 0.  If y is 1, then the second term will be 0.  \n",
    "\n",
    "If your prediction for the first class of a two-class prediction is y-hat, then your prediction for the second class is 1 minus y-hat.  Essentially, if your prediction for class A is 70% (0.7), then your prediction for class B is 30% (0.3).  Your score will increase by the log of your prediction for the correct class.  If the neural network had predicted 1.0 for class A, and the correct answer was A, your score would increase by log (1), which is 0. For log loss, we seek a low score, so a correct answer results in 0.  Some of these log values for a neural network's probability estimate for the correct class:\n",
    "\n",
    "* -log(1.0) = 0\n",
    "* -log(0.95) = 0.02\n",
    "* -log(0.9) = 0.05\n",
    "* -log(0.8) = 0.1\n",
    "* -log(0.5) = 0.3\n",
    "* -log(0.1) = 1\n",
    "* -log(0.01) = 2\n",
    "* -log(1.0e-12) = 12\n",
    "* -log(0.0) = negative infinity\n",
    "\n",
    "As you can see, giving a low confidence to the correct answer affects the score the most.  Because log (0) is negative infinity, we typically impose a minimum value.  Of course, the above log values are for a single training set element.  We will average the log values for the entire training set.\n",
    "\n",
    "The log function is useful to penalizing wrong answers.  The following code demonstrates the utility of the log function:"
   ]
  },
  {
   "cell_type": "code",
   "execution_count": 36,
   "id": "5585df1f",
   "metadata": {},
   "outputs": [
    {
     "name": "stderr",
     "output_type": "stream",
     "text": [
      "C:\\Users\\KUSHAL~1\\AppData\\Local\\Temp/ipykernel_7004/2973668174.py:8: RuntimeWarning: divide by zero encountered in log\n",
      "  ax1.plot(t, np.log(t))\n"
     ]
    },
    {
     "data": {
      "image/png": "[encoded data removed]",
      "text/plain": [
       "<Figure size 720x720 with 1 Axes>"
      ]
     },
     "metadata": {
      "needs_background": "light"
     },
     "output_type": "display_data"
    }
   ],
   "source": [
    "%matplotlib inline\n",
    "from matplotlib.pyplot import figure , show\n",
    "from numpy import arange, sin, pi\n",
    "t = arange(0.0, 1.0, 0.00001)\n",
    "\n",
    "fig = figure(1,figsize=(10,10))\n",
    "ax1 = fig.add_subplot(211)\n",
    "ax1.plot(t, np.log(t))\n",
    "ax1.grid(True)\n",
    "ax1.set_ylim((-8, 1.5))\n",
    "ax1.set_xlim((-0.1,1.5))\n",
    "ax1.set_xlabel('x')\n",
    "ax1.set_ylabel('y')\n",
    "ax1.set_title('log(x)')\n",
    "\n",
    "show()"
   ]
  }
 ],
 "metadata": {
  "kernelspec": {
   "display_name": "Python 3 (ipykernel)",
   "language": "python",
   "name": "python3"
  },
  "language_info": {
   "codemirror_mode": {
    "name": "ipython",
    "version": 3
   },
   "file_extension": ".py",
   "mimetype": "text/x-python",
   "name": "python",
   "nbconvert_exporter": "python",
   "pygments_lexer": "ipython3",
   "version": "3.8.12"
  }
 },
 "nbformat": 4,
 "nbformat_minor": 5
}
